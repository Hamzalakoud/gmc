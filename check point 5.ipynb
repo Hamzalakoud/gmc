{
 "cells": [
  {
   "cell_type": "code",
   "execution_count": 9,
   "id": "67b5b5ff",
   "metadata": {},
   "outputs": [
    {
     "name": "stdout",
     "output_type": "stream",
     "text": [
      "[[0, 1, 2], [3, 4, 5], [6, 7, 8]]\n"
     ]
    }
   ],
   "source": [
    "#exercice1\n",
    "import numpy as np\n",
    "a = np.array([[0,1,2],[3,4,5],[6,7,8]])\n",
    "b=a.tolist()\n",
    "print(b)"
   ]
  },
  {
   "cell_type": "code",
   "execution_count": 11,
   "id": "6bf6dab4",
   "metadata": {},
   "outputs": [
    {
     "name": "stdout",
     "output_type": "stream",
     "text": [
      "[[0 1 2]\n",
      " [3 4 5]\n",
      " [6 7 8]]\n",
      "12\n"
     ]
    }
   ],
   "source": [
    "#exercice2\n",
    "import numpy as np\n",
    "a = np.array([[0,1,2],[3,4,5],[6,7,8]])\n",
    "r=np.trace(a)\n",
    "print(a)\n",
    "print(r)\n",
    "            \n"
   ]
  },
  {
   "cell_type": "code",
   "execution_count": 17,
   "id": "1fe4acae",
   "metadata": {},
   "outputs": [
    {
     "name": "stdout",
     "output_type": "stream",
     "text": [
      "choisisez un nombre3\n",
      "[8 5 7 6 8]\n"
     ]
    }
   ],
   "source": [
    "#exercice3\n",
    "import numpy as np\n",
    "a = np.array([[3,8,5],[0,7,2],[6,1,8]])\n",
    "y=int(input(\"choisisez un nombre\"))\n",
    "r=a[a>y]\n",
    "print(r)\n"
   ]
  },
  {
   "cell_type": "code",
   "execution_count": 20,
   "id": "0436b7c4",
   "metadata": {},
   "outputs": [
    {
     "name": "stdout",
     "output_type": "stream",
     "text": [
      "[[ 3  9  7]\n",
      " [ 3 11  7]\n",
      " [12  8 16]]\n"
     ]
    }
   ],
   "source": [
    "#exercice4\n",
    "import numpy as np\n",
    "a = np.array([[3,8,5],[0,7,2],[6,1,8]])\n",
    "b= np.array([[0,1,2],[3,4,5],[6,7,8]])\n",
    "c=a+b\n",
    "print(c)\n",
    "\n"
   ]
  },
  {
   "cell_type": "code",
   "execution_count": 29,
   "id": "3d8e211c",
   "metadata": {},
   "outputs": [
    {
     "name": "stdout",
     "output_type": "stream",
     "text": [
      "5.5\n",
      "Y= -4.5\n",
      "Y= -1.5\n",
      "Y= -0.5\n",
      "Y= 6.5\n",
      "5.5\n",
      "Y= -0.5\n",
      "Y= 2.5\n",
      "Y= 3.5\n",
      "Y= -5.5\n",
      "10.75\n",
      "Y= -4.75\n",
      "Y= -3.75\n",
      "Y= 0.25\n",
      "Y= 8.25\n"
     ]
    }
   ],
   "source": [
    "import numpy as np\n",
    "a = np.array([[1, 4, 5, 12], \n",
    "    [5, 8, 9, 0],\n",
    "    [6, 7, 11, 19]])\n",
    "for i in a:\n",
    "    y=i.mean()\n",
    "    print (y)\n",
    "    for j in i:\n",
    "        Y=j-y\n",
    "        print(\"Y=\",Y)\n",
    "\n"
   ]
  },
  {
   "cell_type": "code",
   "execution_count": null,
   "id": "2c467490",
   "metadata": {},
   "outputs": [],
   "source": []
  }
 ],
 "metadata": {
  "kernelspec": {
   "display_name": "Python 3",
   "language": "python",
   "name": "python3"
  },
  "language_info": {
   "codemirror_mode": {
    "name": "ipython",
    "version": 3
   },
   "file_extension": ".py",
   "mimetype": "text/x-python",
   "name": "python",
   "nbconvert_exporter": "python",
   "pygments_lexer": "ipython3",
   "version": "3.8.8"
  }
 },
 "nbformat": 4,
 "nbformat_minor": 5
}
