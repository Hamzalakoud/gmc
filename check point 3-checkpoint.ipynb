{
 "cells": [
  {
   "cell_type": "code",
   "execution_count": 45,
   "id": "0e96570e",
   "metadata": {},
   "outputs": [
    {
     "name": "stdout",
     "output_type": "stream",
     "text": [
      "tapez votre entier2\n",
      "tapez votre deuxieme entier1\n",
      "tapez votre troisieme entier4\n",
      "4.0 est le max\n"
     ]
    }
   ],
   "source": [
    "#exercice1\n",
    "a=float(input(\"tapez votre entier\"))\n",
    "b=float(input(\"tapez votre deuxieme entier\"))\n",
    "c=float(input(\"tapez votre troisieme entier\"))\n",
    "def math(a,b,c):\n",
    "    if a>b and a>c:\n",
    "        print(a,\"est le max\")\n",
    "    elif b>a and b>c:\n",
    "        print(b,\"est le max\")\n",
    "    elif c>a and c>b:\n",
    "        print(c,\"est le max\")\n",
    "math(a,b,c)\n",
    "            "
   ]
  },
  {
   "cell_type": "code",
   "execution_count": 62,
   "id": "de43cd3a",
   "metadata": {},
   "outputs": [
    {
     "name": "stdout",
     "output_type": "stream",
     "text": [
      "tapez votre entier15\n",
      "tapez votre deuxieme entier5\n"
     ]
    },
    {
     "data": {
      "text/plain": [
       "(20, 10)"
      ]
     },
     "execution_count": 62,
     "metadata": {},
     "output_type": "execute_result"
    }
   ],
   "source": [
    "#exercice2\n",
    "a=int(input(\"tapez votre entier\"))\n",
    "b=int(input(\"tapez votre deuxieme entier\"))\n",
    "def function(a,b):\n",
    "    add =a+b \n",
    "    soustra =a-b\n",
    "    return add,soustra\n",
    "function(a,b)\n"
   ]
  },
  {
   "cell_type": "code",
   "execution_count": 87,
   "id": "dc1f345b",
   "metadata": {},
   "outputs": [
    {
     "name": "stdout",
     "output_type": "stream",
     "text": [
      "384\n",
      "20\n"
     ]
    }
   ],
   "source": [
    "#exercice3\n",
    "a=[1,2,3,4,5,6,7,8,9]\n",
    "\n",
    "def sum(a):\n",
    "    r=0\n",
    "    for i in range(len(a)):\n",
    "        r+=a[i]\n",
    "    return r\n",
    "(sum(a))\n",
    "\n",
    "def mm(a):\n",
    "    re=1\n",
    "    for b in range(len(a)):\n",
    "        re*=a[b]\n",
    "    return re\n",
    "(mm(a))\n",
    "b=a[1::2]\n",
    "print(mm(b))\n",
    "c=a[::2]\n",
    "print(sum(b))\n",
    "\n",
    "\n",
    "\n",
    "    \n",
    "\n",
    "\n",
    "\n"
   ]
  },
  {
   "cell_type": "code",
   "execution_count": 98,
   "id": "02225339",
   "metadata": {},
   "outputs": [
    {
     "name": "stdout",
     "output_type": "stream",
     "text": [
      "write your words: green-red-yellow-black-white\n",
      "black-green-red-white-yellow\n"
     ]
    }
   ],
   "source": [
    "item=input(\"write your words: \")\n",
    "x=item.split('-')\n",
    "x.sort()\n",
    "print('-'.join(x))"
   ]
  },
  {
   "cell_type": "code",
   "execution_count": 101,
   "id": "9f399194",
   "metadata": {},
   "outputs": [
    {
     "name": "stdout",
     "output_type": "stream",
     "text": [
      "Provide D: 100,150,180\n",
      "[18, 22, 24]\n"
     ]
    }
   ],
   "source": [
    "numbers = input(\"Provide D: \")\n",
    "numbers = numbers.split(',')\n",
    "\n",
    "result_list = []\n",
    "for D in numbers:\n",
    "    Q = round(math.sqrt(2 * 50 * int(D) / 30))\n",
    "    result_list.append(Q)\n",
    "\n",
    "print(result_list)"
   ]
  },
  {
   "cell_type": "code",
   "execution_count": null,
   "id": "e6ecc3de",
   "metadata": {},
   "outputs": [],
   "source": []
  }
 ],
 "metadata": {
  "kernelspec": {
   "display_name": "Python 3",
   "language": "python",
   "name": "python3"
  },
  "language_info": {
   "codemirror_mode": {
    "name": "ipython",
    "version": 3
   },
   "file_extension": ".py",
   "mimetype": "text/x-python",
   "name": "python",
   "nbconvert_exporter": "python",
   "pygments_lexer": "ipython3",
   "version": "3.8.8"
  }
 },
 "nbformat": 4,
 "nbformat_minor": 5
}
